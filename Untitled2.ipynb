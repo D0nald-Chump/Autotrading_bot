{
 "cells": [
  {
   "cell_type": "code",
   "execution_count": 1,
   "id": "516c9b3e-72d6-43e0-8a32-f3219a72aea5",
   "metadata": {},
   "outputs": [
    {
     "name": "stdout",
     "output_type": "stream",
     "text": [
      "Requirement already satisfied: alpaca-trade-api in ./alpaca_env/lib/python3.11/site-packages (3.2.0)\n",
      "Requirement already satisfied: pytz in ./alpaca_env/lib/python3.11/site-packages (2025.2)\n",
      "Collecting schedule\n",
      "  Downloading schedule-1.2.2-py3-none-any.whl.metadata (3.8 kB)\n",
      "Collecting python-dotenv\n",
      "  Downloading python_dotenv-1.1.1-py3-none-any.whl.metadata (24 kB)\n",
      "Requirement already satisfied: pandas>=0.18.1 in ./alpaca_env/lib/python3.11/site-packages (from alpaca-trade-api) (2.3.0)\n",
      "Requirement already satisfied: numpy>=1.11.1 in ./alpaca_env/lib/python3.11/site-packages (from alpaca-trade-api) (2.3.1)\n",
      "Requirement already satisfied: requests<3,>2 in ./alpaca_env/lib/python3.11/site-packages (from alpaca-trade-api) (2.32.4)\n",
      "Requirement already satisfied: urllib3<2,>1.24 in ./alpaca_env/lib/python3.11/site-packages (from alpaca-trade-api) (1.26.20)\n",
      "Requirement already satisfied: websocket-client<2,>=0.56.0 in ./alpaca_env/lib/python3.11/site-packages (from alpaca-trade-api) (1.8.0)\n",
      "Requirement already satisfied: websockets<11,>=9.0 in ./alpaca_env/lib/python3.11/site-packages (from alpaca-trade-api) (10.4)\n",
      "Requirement already satisfied: msgpack==1.0.3 in ./alpaca_env/lib/python3.11/site-packages (from alpaca-trade-api) (1.0.3)\n",
      "Requirement already satisfied: aiohttp<4,>=3.8.3 in ./alpaca_env/lib/python3.11/site-packages (from alpaca-trade-api) (3.12.13)\n",
      "Requirement already satisfied: PyYAML==6.0.1 in ./alpaca_env/lib/python3.11/site-packages (from alpaca-trade-api) (6.0.1)\n",
      "Requirement already satisfied: deprecation==2.1.0 in ./alpaca_env/lib/python3.11/site-packages (from alpaca-trade-api) (2.1.0)\n",
      "Requirement already satisfied: packaging in ./alpaca_env/lib/python3.11/site-packages (from deprecation==2.1.0->alpaca-trade-api) (25.0)\n",
      "Requirement already satisfied: aiohappyeyeballs>=2.5.0 in ./alpaca_env/lib/python3.11/site-packages (from aiohttp<4,>=3.8.3->alpaca-trade-api) (2.6.1)\n",
      "Requirement already satisfied: aiosignal>=1.1.2 in ./alpaca_env/lib/python3.11/site-packages (from aiohttp<4,>=3.8.3->alpaca-trade-api) (1.3.2)\n",
      "Requirement already satisfied: attrs>=17.3.0 in ./alpaca_env/lib/python3.11/site-packages (from aiohttp<4,>=3.8.3->alpaca-trade-api) (25.3.0)\n",
      "Requirement already satisfied: frozenlist>=1.1.1 in ./alpaca_env/lib/python3.11/site-packages (from aiohttp<4,>=3.8.3->alpaca-trade-api) (1.7.0)\n",
      "Requirement already satisfied: multidict<7.0,>=4.5 in ./alpaca_env/lib/python3.11/site-packages (from aiohttp<4,>=3.8.3->alpaca-trade-api) (6.6.3)\n",
      "Requirement already satisfied: propcache>=0.2.0 in ./alpaca_env/lib/python3.11/site-packages (from aiohttp<4,>=3.8.3->alpaca-trade-api) (0.3.2)\n",
      "Requirement already satisfied: yarl<2.0,>=1.17.0 in ./alpaca_env/lib/python3.11/site-packages (from aiohttp<4,>=3.8.3->alpaca-trade-api) (1.20.1)\n",
      "Requirement already satisfied: python-dateutil>=2.8.2 in ./alpaca_env/lib/python3.11/site-packages (from pandas>=0.18.1->alpaca-trade-api) (2.9.0.post0)\n",
      "Requirement already satisfied: tzdata>=2022.7 in ./alpaca_env/lib/python3.11/site-packages (from pandas>=0.18.1->alpaca-trade-api) (2025.2)\n",
      "Requirement already satisfied: charset_normalizer<4,>=2 in ./alpaca_env/lib/python3.11/site-packages (from requests<3,>2->alpaca-trade-api) (3.4.2)\n",
      "Requirement already satisfied: idna<4,>=2.5 in ./alpaca_env/lib/python3.11/site-packages (from requests<3,>2->alpaca-trade-api) (3.10)\n",
      "Requirement already satisfied: certifi>=2017.4.17 in ./alpaca_env/lib/python3.11/site-packages (from requests<3,>2->alpaca-trade-api) (2025.6.15)\n",
      "Requirement already satisfied: six>=1.5 in ./alpaca_env/lib/python3.11/site-packages (from python-dateutil>=2.8.2->pandas>=0.18.1->alpaca-trade-api) (1.17.0)\n",
      "Downloading schedule-1.2.2-py3-none-any.whl (12 kB)\n",
      "Downloading python_dotenv-1.1.1-py3-none-any.whl (20 kB)\n",
      "Installing collected packages: schedule, python-dotenv\n",
      "Successfully installed python-dotenv-1.1.1 schedule-1.2.2\n",
      "\n",
      "\u001b[1m[\u001b[0m\u001b[34;49mnotice\u001b[0m\u001b[1;39;49m]\u001b[0m\u001b[39;49m A new release of pip is available: \u001b[0m\u001b[31;49m24.0\u001b[0m\u001b[39;49m -> \u001b[0m\u001b[32;49m25.1.1\u001b[0m\n",
      "\u001b[1m[\u001b[0m\u001b[34;49mnotice\u001b[0m\u001b[1;39;49m]\u001b[0m\u001b[39;49m To update, run: \u001b[0m\u001b[32;49mpip install --upgrade pip\u001b[0m\n"
     ]
    }
   ],
   "source": [
    "!pip install alpaca-trade-api pytz schedule python-dotenv"
   ]
  },
  {
   "cell_type": "code",
   "execution_count": 3,
   "id": "f66f2a3b-e427-4802-b1cf-9620d570f05d",
   "metadata": {},
   "outputs": [
    {
     "name": "stdout",
     "output_type": "stream",
     "text": [
      "PK7NHVAMHZPYIXK0F43X\n",
      "iX47VfT39FzGo3gnnM8a7mxGyRr6aAC098gnPozu\n"
     ]
    }
   ],
   "source": [
    "from dotenv import load_dotenv\n",
    "import os\n",
    "\n",
    "load_dotenv()\n",
    "API_KEY = os.getenv(\"APCA_API_KEY_ID\")\n",
    "SECRET_KEY = os.getenv(\"APCA_API_SECRET_KEY\")\n",
    "print(API_KEY)\n",
    "print(SECRET_KEY)"
   ]
  },
  {
   "cell_type": "code",
   "execution_count": null,
   "id": "ea1bc300-68f4-4a3d-a108-befa4ed5ace1",
   "metadata": {},
   "outputs": [],
   "source": []
  }
 ],
 "metadata": {
  "kernelspec": {
   "display_name": "Python (alpaca_env)",
   "language": "python",
   "name": "alpaca_env"
  },
  "language_info": {
   "codemirror_mode": {
    "name": "ipython",
    "version": 3
   },
   "file_extension": ".py",
   "mimetype": "text/x-python",
   "name": "python",
   "nbconvert_exporter": "python",
   "pygments_lexer": "ipython3",
   "version": "3.11.8"
  }
 },
 "nbformat": 4,
 "nbformat_minor": 5
}
