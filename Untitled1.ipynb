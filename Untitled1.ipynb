{
 "cells": [
  {
   "cell_type": "code",
   "execution_count": 1,
   "id": "c26190dd-c727-4f45-90e8-3dc158e9b265",
   "metadata": {},
   "outputs": [
    {
     "name": "stdout",
     "output_type": "stream",
     "text": [
      "account status ACTIVE\n",
      "account cash$ 100000\n"
     ]
    }
   ],
   "source": [
    "from alpaca_trade_api.rest import REST\n",
    "\n",
    "API_KEY = 'PK7NHVAMHZPYIXK0F43X'\n",
    "SECRET_KEY = 'iX47VfT39FzGo3gnnM8a7mxGyRr6aAC098gnPozu'\n",
    "BASE_URL = 'https://paper-api.alpaca.markets'\n",
    "\n",
    "api = REST(API_KEY, SECRET_KEY, BASE_URL)\n",
    "\n",
    "account = api.get_account()\n",
    "print(\"account status\", account.status)\n",
    "print(\"account cash$\", account.cash)\n"
   ]
  },
  {
   "cell_type": "code",
   "execution_count": 2,
   "id": "34a25bd6-8754-4f5c-993c-7509653352c5",
   "metadata": {},
   "outputs": [
    {
     "name": "stdout",
     "output_type": "stream",
     "text": [
      "订单已提交\n",
      "Order({   'asset_class': 'us_equity',\n",
      "    'asset_id': '2d9e926c-e17c-47c3-ad8c-26c7a594e48f',\n",
      "    'canceled_at': None,\n",
      "    'client_order_id': 'a8ea4045-8488-491c-9124-39638044971f',\n",
      "    'created_at': '2025-07-03T19:12:31.803615638Z',\n",
      "    'expired_at': None,\n",
      "    'expires_at': '2025-10-03T20:00:00Z',\n",
      "    'extended_hours': False,\n",
      "    'failed_at': None,\n",
      "    'filled_at': None,\n",
      "    'filled_avg_price': None,\n",
      "    'filled_qty': '0',\n",
      "    'hwm': None,\n",
      "    'id': 'a110c6df-f05c-4087-8f3d-7140170f679a',\n",
      "    'legs': None,\n",
      "    'limit_price': None,\n",
      "    'notional': None,\n",
      "    'order_class': '',\n",
      "    'order_type': 'market',\n",
      "    'position_intent': 'buy_to_open',\n",
      "    'qty': '1',\n",
      "    'replaced_at': None,\n",
      "    'replaced_by': None,\n",
      "    'replaces': None,\n",
      "    'side': 'buy',\n",
      "    'source': None,\n",
      "    'status': 'accepted',\n",
      "    'stop_price': None,\n",
      "    'submitted_at': '2025-07-03T19:12:31.803615638Z',\n",
      "    'subtag': None,\n",
      "    'symbol': 'QQQ',\n",
      "    'time_in_force': 'gtc',\n",
      "    'trail_percent': None,\n",
      "    'trail_price': None,\n",
      "    'type': 'market',\n",
      "    'updated_at': '2025-07-03T19:12:31.805661738Z'})\n"
     ]
    }
   ],
   "source": [
    "order = api.submit_order(\n",
    "    symbol='QQQ',\n",
    "    qty=1,\n",
    "    side='buy',\n",
    "    type='market',\n",
    "    time_in_force='gtc'  # good till cancelled\n",
    ")\n",
    "\n",
    "print(\"订单已提交\")\n",
    "print(order)"
   ]
  },
  {
   "cell_type": "code",
   "execution_count": null,
   "id": "1840fd53-b669-45af-adc0-a9d0ff39a4b3",
   "metadata": {},
   "outputs": [],
   "source": []
  }
 ],
 "metadata": {
  "kernelspec": {
   "display_name": "Python (alpaca_env)",
   "language": "python",
   "name": "alpaca_env"
  },
  "language_info": {
   "codemirror_mode": {
    "name": "ipython",
    "version": 3
   },
   "file_extension": ".py",
   "mimetype": "text/x-python",
   "name": "python",
   "nbconvert_exporter": "python",
   "pygments_lexer": "ipython3",
   "version": "3.11.8"
  }
 },
 "nbformat": 4,
 "nbformat_minor": 5
}
